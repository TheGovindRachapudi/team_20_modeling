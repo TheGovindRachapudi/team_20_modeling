{
 "cells": [
  {
   "cell_type": "code",
   "execution_count": null,
   "id": "781711de",
   "metadata": {},
   "outputs": [],
   "source": [
    "import pandas as pd\n",
    "import numpy as np\n",
    "from sklearn.model_selection import train_test_split, GridSearchCV, cross_val_score\n",
    "from sklearn.preprocessing import LabelEncoder, StandardScaler\n",
    "from sklearn.linear_model import LogisticRegression\n",
    "from sklearn.tree import DecisionTreeClassifier\n",
    "from sklearn.metrics import (\n",
    "    accuracy_score, precision_score, recall_score, f1_score, roc_auc_score, confusion_matrix, classification_report\n",
    ")\n",
    "from codecarbon import EmissionsTracker\n",
    "import matplotlib.pyplot as plt\n",
    "import seaborn as sns"
   ]
  },
  {
   "cell_type": "code",
   "execution_count": 5,
   "id": "21d7d392",
   "metadata": {},
   "outputs": [],
   "source": [
    "df = pd.read_csv(r\"C:\\Users\\User\\Desktop\\ML SDS\\Austin Fire Project\\AFD_Fire_Incidents_2022-2024_20250930.csv\")"
   ]
  },
  {
   "cell_type": "code",
   "execution_count": 6,
   "id": "f04f7bcd",
   "metadata": {},
   "outputs": [
    {
     "name": "stdout",
     "output_type": "stream",
     "text": [
      "   Incident Number  CalendarYear Month                 IncDate Call_Type  \\\n",
      "0         22000002          2022   Jan  01/01/2022 12:00:00 AM      Fire   \n",
      "1         22000011          2022   Jan  01/01/2022 12:00:00 AM      Fire   \n",
      "2         22000019          2022   Jan  01/01/2022 12:00:00 AM      Fire   \n",
      "3         22000028          2022   Jan  01/01/2022 12:00:00 AM      Fire   \n",
      "4         22000029          2022   Jan  01/01/2022 12:00:00 AM      Fire   \n",
      "\n",
      "                    Problem ResponseArea Jurisdiction PriorityDescription  \\\n",
      "0  GRASS - Small Grass Fire      00-2403          AFD                  3F   \n",
      "1        TRASH - Trash Fire      00-3004          AFD                  3F   \n",
      "2        TRASH - Trash Fire      00-0603          AFD                  3F   \n",
      "3      DUMP - Dumpster Fire      00-3404          AFD                  3F   \n",
      "4      DUMP - Dumpster Fire      00-5101          AFD                  3F   \n",
      "\n",
      "  Council_District                Location  \n",
      "0                2  (-97.769871,30.178386)  \n",
      "1                1  (-97.671294,30.394254)  \n",
      "2                9  (-97.756675,30.241250)  \n",
      "3                6  (-97.794793,30.480280)  \n",
      "4                8  (-97.838458,30.233931)  \n"
     ]
    }
   ],
   "source": [
    "print(df.head())"
   ]
  },
  {
   "cell_type": "markdown",
   "id": "6e31c336",
   "metadata": {},
   "source": [
    "Target Variable: Priority Description (In Binary)\n",
    "\n",
    "1 = high priority (1F, 2F)\n",
    "0 = low priority (3F, 4F)"
   ]
  },
  {
   "cell_type": "code",
   "execution_count": null,
   "id": "2ad6b15c",
   "metadata": {},
   "outputs": [],
   "source": [
    "#Target Variable: Priority Description (In Binary)\n",
    "df = df[df[\"PriorityDescription\"].notna()]\n",
    "df[\"Priority_Level\"] = df[\"PriorityDescription\"].apply(lambda x: 1 if str(x).startswith((\"1F\", \"2F\")) else 0)"
   ]
  },
  {
   "cell_type": "code",
   "execution_count": 10,
   "id": "d245ab76",
   "metadata": {},
   "outputs": [],
   "source": [
    "# Input Features\n",
    "features = [\"Call_Type\", \"Problem\", \"Council_District\", \"Jurisdiction\", \"Month\", \"ResponseArea\"]\n",
    "df_model = df[features + [\"Priority_Level\"]].dropna()"
   ]
  },
  {
   "cell_type": "code",
   "execution_count": 11,
   "id": "317269ed",
   "metadata": {},
   "outputs": [],
   "source": [
    "#encode categorical variables\n",
    "le_dict = {}\n",
    "for col in features:\n",
    "    le = LabelEncoder()\n",
    "    df_model[col] = le.fit_transform(df_model[col].astype(str))\n",
    "    le_dict[col] = le\n",
    "\n",
    "X = df_model[features]\n",
    "y = df_model[\"Priority_Level\"]"
   ]
  },
  {
   "cell_type": "code",
   "execution_count": 12,
   "id": "8337cc11",
   "metadata": {},
   "outputs": [
    {
     "name": "stdout",
     "output_type": "stream",
     "text": [
      "Train shape: (14635, 6) Test shape: (6273, 6)\n"
     ]
    }
   ],
   "source": [
    "#train test split + Stratification\n",
    "X_train, X_test, y_train, y_test = train_test_split(\n",
    "    X, y, test_size=0.3, random_state=42, stratify=y\n",
    ")\n",
    "\n",
    "print(\"Train shape:\", X_train.shape, \"Test shape:\", X_test.shape)\n"
   ]
  },
  {
   "cell_type": "markdown",
   "id": "3582d8ab",
   "metadata": {},
   "source": [
    "#MODEL CHOICES AND JUSTIFICATION\n",
    "\n",
    "Logistic Regression = interpretable baseline\n",
    "\n",
    "\n",
    "\n",
    "\n",
    "\n",
    "Decision Tree = flexible, captures nonlinear relationships"
   ]
  },
  {
   "cell_type": "code",
   "execution_count": 14,
   "id": "13410a4a",
   "metadata": {},
   "outputs": [
    {
     "name": "stdout",
     "output_type": "stream",
     "text": [
      "Best Logistic Regression Params: {'C': 0.1}\n"
     ]
    }
   ],
   "source": [
    "#Hyperparameter tuning + loss function\n",
    "\n",
    "log_reg = LogisticRegression(max_iter=1000)\n",
    "param_grid_lr = {\"C\": [0.01, 0.1, 1, 10, 100]}\n",
    "grid_lr = GridSearchCV(log_reg, param_grid_lr, cv=5, scoring=\"f1\")\n",
    "grid_lr.fit(X_train, y_train)\n",
    "\n",
    "best_lr = grid_lr.best_estimator_\n",
    "print(\"Best Logistic Regression Params:\", grid_lr.best_params_)"
   ]
  },
  {
   "cell_type": "code",
   "execution_count": 15,
   "id": "cf1356e1",
   "metadata": {},
   "outputs": [
    {
     "name": "stdout",
     "output_type": "stream",
     "text": [
      "Best Decision Tree Params: {'max_depth': 7, 'min_samples_split': 2}\n"
     ]
    }
   ],
   "source": [
    "#Decision Tree Classifier\n",
    "dt = DecisionTreeClassifier(random_state=42)\n",
    "param_grid_dt = {\"max_depth\": [3, 5, 7, 9, 12], \"min_samples_split\": [2, 5, 10]}\n",
    "grid_dt = GridSearchCV(dt, param_grid_dt, cv=5, scoring=\"f1\")\n",
    "grid_dt.fit(X_train, y_train)\n",
    "\n",
    "best_dt = grid_dt.best_estimator_\n",
    "print(\"Best Decision Tree Params:\", grid_dt.best_params_)"
   ]
  },
  {
   "cell_type": "markdown",
   "id": "b1139270",
   "metadata": {},
   "source": [
    "Evaluation and Validation"
   ]
  },
  {
   "cell_type": "code",
   "execution_count": 16,
   "id": "c7dc6547",
   "metadata": {},
   "outputs": [
    {
     "name": "stdout",
     "output_type": "stream",
     "text": [
      "\n",
      "📊 Model Evaluation: Logistic Regression\n",
      "Accuracy: 0.908\n",
      "Precision: 0.885\n",
      "Recall: 0.755\n",
      "F1 Score: 0.815\n",
      "ROC-AUC: 0.977\n"
     ]
    },
    {
     "data": {
      "image/png": "[encoded data removed]",
      "text/plain": [
       "<Figure size 640x480 with 2 Axes>"
      ]
     },
     "metadata": {},
     "output_type": "display_data"
    },
    {
     "name": "stdout",
     "output_type": "stream",
     "text": [
      "\n",
      "📊 Model Evaluation: Decision Tree\n",
      "Accuracy: 1.0\n",
      "Precision: 1.0\n",
      "Recall: 0.999\n",
      "F1 Score: 1.0\n",
      "ROC-AUC: 1.0\n"
     ]
    },
    {
     "data": {
      "image/png": "[encoded data removed]",
      "text/plain": [
       "<Figure size 640x480 with 2 Axes>"
      ]
     },
     "metadata": {},
     "output_type": "display_data"
    }
   ],
   "source": [
    "def evaluate_model(model, X_train, y_train, X_test, y_test, name):\n",
    "    y_pred = model.predict(X_test)\n",
    "    y_prob = model.predict_proba(X_test)[:, 1] if hasattr(model, \"predict_proba\") else None\n",
    "    \n",
    "    print(f\"\\n📊 Model Evaluation: {name}\")\n",
    "    print(\"Accuracy:\", round(accuracy_score(y_test, y_pred), 3))\n",
    "    print(\"Precision:\", round(precision_score(y_test, y_pred), 3))\n",
    "    print(\"Recall:\", round(recall_score(y_test, y_pred), 3))\n",
    "    print(\"F1 Score:\", round(f1_score(y_test, y_pred), 3))\n",
    "    if y_prob is not None:\n",
    "        print(\"ROC-AUC:\", round(roc_auc_score(y_test, y_prob), 3))\n",
    "    \n",
    "    cm = confusion_matrix(y_test, y_pred)\n",
    "    sns.heatmap(cm, annot=True, fmt=\"d\", cmap=\"Blues\")\n",
    "    plt.title(f\"Confusion Matrix: {name}\")\n",
    "    plt.xlabel(\"Predicted\")\n",
    "    plt.ylabel(\"Actual\")\n",
    "    plt.show()\n",
    "\n",
    "evaluate_model(best_lr, X_train, y_train, X_test, y_test, \"Logistic Regression\")\n",
    "evaluate_model(best_dt, X_train, y_train, X_test, y_test, \"Decision Tree\")"
   ]
  },
  {
   "cell_type": "code",
   "execution_count": 17,
   "id": "68d9c6a9",
   "metadata": {},
   "outputs": [
    {
     "name": "stderr",
     "output_type": "stream",
     "text": [
      "[codecarbon WARNING @ 09:16:09] Multiple instances of codecarbon are allowed to run at the same time.\n",
      "[codecarbon INFO @ 09:16:09] [setup] RAM Tracking...\n",
      "[codecarbon INFO @ 09:16:09] [setup] CPU Tracking...\n",
      "[codecarbon WARNING @ 09:16:10] No CPU tracking mode found. Falling back on estimation based on TDP for CPU. \n",
      " Windows OS detected: Please install Intel Power Gadget to measure CPU\n",
      "\n",
      "[codecarbon INFO @ 09:16:10] CPU Model on constant consumption mode: 13th Gen Intel(R) Core(TM) i7-1360P\n",
      "[codecarbon WARNING @ 09:16:10] No CPU tracking mode found. Falling back on CPU constant mode.\n",
      "[codecarbon INFO @ 09:16:10] [setup] GPU Tracking...\n",
      "[codecarbon INFO @ 09:16:10] No GPU found.\n",
      "[codecarbon INFO @ 09:16:10] The below tracking methods have been set up:\n",
      "                RAM Tracking Method: RAM power estimation model\n",
      "                CPU Tracking Method: global constant\n",
      "                GPU Tracking Method: Unspecified\n",
      "            \n",
      "[codecarbon INFO @ 09:16:10] >>> Tracker's metadata:\n",
      "[codecarbon INFO @ 09:16:10]   Platform system: Windows-11-10.0.26100-SP0\n",
      "[codecarbon INFO @ 09:16:10]   Python version: 3.13.5\n",
      "[codecarbon INFO @ 09:16:10]   CodeCarbon version: 3.0.7\n",
      "[codecarbon INFO @ 09:16:10]   Available RAM : 15.690 GB\n",
      "[codecarbon INFO @ 09:16:10]   CPU count: 16 thread(s) in 16 physical CPU(s)\n",
      "[codecarbon INFO @ 09:16:10]   CPU model: 13th Gen Intel(R) Core(TM) i7-1360P\n",
      "[codecarbon INFO @ 09:16:10]   GPU count: None\n",
      "[codecarbon INFO @ 09:16:10]   GPU model: None\n",
      "[codecarbon INFO @ 09:16:14] Emissions data (if any) will be saved to file c:\\Users\\User\\Desktop\\ML SDS\\emissions.csv\n",
      "[codecarbon INFO @ 09:16:14] Energy consumed for RAM : 0.000000 kWh. RAM Power : 10.0 W\n",
      "[codecarbon INFO @ 09:16:14] Delta energy consumed for CPU with constant : 0.000002 kWh, power : 224.0 W\n",
      "[codecarbon INFO @ 09:16:14] Energy consumed for All CPU : 0.000002 kWh\n",
      "[codecarbon INFO @ 09:16:14] 0.000002 kWh of electricity used since the beginning.\n",
      "[codecarbon WARNING @ 09:16:14] Already started tracking\n",
      "[codecarbon WARNING @ 09:16:14] Tracker already stopped !\n",
      "[codecarbon INFO @ 09:16:14] Energy consumed for RAM : 0.000000 kWh. RAM Power : 10.0 W\n",
      "[codecarbon INFO @ 09:16:14] Delta energy consumed for CPU with constant : 0.000002 kWh, power : 224.0 W\n",
      "[codecarbon INFO @ 09:16:14] Energy consumed for All CPU : 0.000003 kWh\n",
      "[codecarbon INFO @ 09:16:14] 0.000003 kWh of electricity used since the beginning.\n",
      "[codecarbon WARNING @ 09:16:14] Already started tracking\n",
      "[codecarbon WARNING @ 09:16:14] Tracker already stopped !\n",
      "[codecarbon INFO @ 09:16:14] Energy consumed for RAM : 0.000000 kWh. RAM Power : 10.0 W\n",
      "[codecarbon INFO @ 09:16:14] Delta energy consumed for CPU with constant : 0.000001 kWh, power : 224.0 W\n",
      "[codecarbon INFO @ 09:16:14] Energy consumed for All CPU : 0.000004 kWh\n",
      "[codecarbon INFO @ 09:16:14] 0.000005 kWh of electricity used since the beginning.\n",
      "[codecarbon WARNING @ 09:16:14] Already started tracking\n",
      "[codecarbon WARNING @ 09:16:14] Tracker already stopped !\n",
      "[codecarbon INFO @ 09:16:14] Energy consumed for RAM : 0.000000 kWh. RAM Power : 10.0 W\n",
      "[codecarbon INFO @ 09:16:14] Delta energy consumed for CPU with constant : 0.000001 kWh, power : 224.0 W\n",
      "[codecarbon INFO @ 09:16:14] Energy consumed for All CPU : 0.000006 kWh\n",
      "[codecarbon INFO @ 09:16:14] 0.000006 kWh of electricity used since the beginning.\n"
     ]
    },
    {
     "name": "stdout",
     "output_type": "stream",
     "text": [
      "\n",
      "🌱 ENERGY CONSUMPTION SUMMARY\n",
      "Logistic Regression (Train): 0.000001 kg CO2e\n",
      "Decision Tree (Train): 0.000002 kg CO2e\n",
      "Logistic Regression (1000 Predictions): 0.000002 kg CO2e\n",
      "Decision Tree (1000 Predictions): 0.000003 kg CO2e\n"
     ]
    }
   ],
   "source": [
    "#Energy Usage Analysis (sustainability aspect)\n",
    "# We’ll estimate training + prediction emissions per 1,000 predictions.\n",
    "\n",
    "tracker = EmissionsTracker(project_name=\"AFD_Priority_Classifier\")\n",
    "\n",
    "tracker.start()\n",
    "best_lr.fit(X_train, y_train)\n",
    "lr_emissions = tracker.stop()\n",
    "\n",
    "tracker.start()\n",
    "best_dt.fit(X_train, y_train)\n",
    "dt_emissions = tracker.stop()\n",
    "\n",
    "# Simulate prediction for 1,000 samples\n",
    "sample_X = X_test.sample(1000, replace=True, random_state=42)\n",
    "tracker.start()\n",
    "_ = best_lr.predict(sample_X)\n",
    "lr_pred_emissions = tracker.stop()\n",
    "\n",
    "tracker.start()\n",
    "_ = best_dt.predict(sample_X)\n",
    "dt_pred_emissions = tracker.stop()\n",
    "\n",
    "print(\"\\n🌱 ENERGY CONSUMPTION SUMMARY\")\n",
    "print(f\"Logistic Regression (Train): {lr_emissions:.6f} kg CO2e\")\n",
    "print(f\"Decision Tree (Train): {dt_emissions:.6f} kg CO2e\")\n",
    "print(f\"Logistic Regression (1000 Predictions): {lr_pred_emissions:.6f} kg CO2e\")\n",
    "print(f\"Decision Tree (1000 Predictions): {dt_pred_emissions:.6f} kg CO2e\")"
   ]
  },
  {
   "cell_type": "code",
   "execution_count": null,
   "id": "c2485c67",
   "metadata": {},
   "outputs": [],
   "source": []
  }
 ],
 "metadata": {
  "kernelspec": {
   "display_name": "Python 3",
   "language": "python",
   "name": "python3"
  },
  "language_info": {
   "codemirror_mode": {
    "name": "ipython",
    "version": 3
   },
   "file_extension": ".py",
   "mimetype": "text/x-python",
   "name": "python",
   "nbconvert_exporter": "python",
   "pygments_lexer": "ipython3",
   "version": "3.13.5"
  }
 },
 "nbformat": 4,
 "nbformat_minor": 5
}
